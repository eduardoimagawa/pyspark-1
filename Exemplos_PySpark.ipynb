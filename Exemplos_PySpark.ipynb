{
  "nbformat": 4,
  "nbformat_minor": 0,
  "metadata": {
    "colab": {
      "provenance": []
    },
    "kernelspec": {
      "name": "python3",
      "display_name": "Python 3"
    },
    "language_info": {
      "name": "python"
    }
  },
  "cells": [
    {
      "cell_type": "markdown",
      "source": [
        "\n",
        "### A. Configurando o PySpark\n",
        "> Código padrão para configuração no ambiente do Google Colab"
      ],
      "metadata": {
        "id": "CxTuFw2LwOt4"
      }
    },
    {
      "cell_type": "code",
      "source": [
        "# Instalando o Spark na máquina virtual do Colab\n",
        "!sudo apt update\n",
        "!apt-get install openjdk-8-jdk-headless -qq > /dev/null\n",
        "!wget -q https://archive.apache.org/dist/spark/spark-3.1.2/spark-3.1.2-bin-hadoop2.7.tgz\n",
        "!tar xf spark-3.1.2-bin-hadoop2.7.tgz\n",
        "\n",
        "# Definindo a variável de ambiente do Java\n",
        "import os\n",
        "os.environ[\"JAVA_HOME\"] = \"/usr/lib/jvm/java-8-openjdk-amd64\"\n",
        "\n",
        "# Definindo a variável de ambiente do Spark\n",
        "os.environ[\"SPARK_HOME\"] = \"/content/spark-3.1.2-bin-hadoop2.7\"\n",
        "\n",
        "# Configurando o findspark\n",
        "!pip install -q findspark\n",
        "import findspark\n",
        "findspark.init()"
      ],
      "metadata": {
        "colab": {
          "base_uri": "https://localhost:8080/"
        },
        "id": "rojpPid1zDP2",
        "outputId": "f35ea214-f268-4a9d-d5a0-1896d511e2b0"
      },
      "execution_count": 1,
      "outputs": [
        {
          "output_type": "stream",
          "name": "stdout",
          "text": [
            "\u001b[33m\r0% [Working]\u001b[0m\r            \rGet:1 http://security.ubuntu.com/ubuntu jammy-security InRelease [110 kB]\n",
            "\u001b[33m\r0% [Waiting for headers] [1 InRelease 14.2 kB/110 kB 13%] [Waiting for headers]\u001b[0m\r                                                                               \rHit:2 http://archive.ubuntu.com/ubuntu jammy InRelease\n",
            "\u001b[33m\r0% [1 InRelease 14.2 kB/110 kB 13%] [Waiting for headers] [Connecting to ppa.la\u001b[0m\r                                                                               \rGet:3 https://cloud.r-project.org/bin/linux/ubuntu jammy-cran40/ InRelease [3,626 B]\n",
            "\u001b[33m\r0% [Waiting for headers] [1 InRelease 14.2 kB/110 kB 13%] [Connecting to ppa.la\u001b[0m\r                                                                               \rGet:4 http://archive.ubuntu.com/ubuntu jammy-updates InRelease [119 kB]\n",
            "Hit:5 https://developer.download.nvidia.com/compute/cuda/repos/ubuntu2204/x86_64  InRelease\n",
            "Hit:6 http://archive.ubuntu.com/ubuntu jammy-backports InRelease\n",
            "Get:7 https://cloud.r-project.org/bin/linux/ubuntu jammy-cran40/ Packages [48.6 kB]\n",
            "Get:8 http://security.ubuntu.com/ubuntu jammy-security/universe amd64 Packages [1,046 kB]\n",
            "Get:9 https://ppa.launchpadcontent.net/c2d4u.team/c2d4u4.0+/ubuntu jammy InRelease [18.1 kB]\n",
            "Get:10 http://archive.ubuntu.com/ubuntu jammy-updates/main amd64 Packages [1,599 kB]\n",
            "Hit:11 https://ppa.launchpadcontent.net/deadsnakes/ppa/ubuntu jammy InRelease\n",
            "Get:12 http://security.ubuntu.com/ubuntu jammy-security/main amd64 Packages [1,326 kB]\n",
            "Hit:13 https://ppa.launchpadcontent.net/graphics-drivers/ppa/ubuntu jammy InRelease\n",
            "Get:14 http://archive.ubuntu.com/ubuntu jammy-updates/universe amd64 Packages [1,305 kB]\n",
            "Hit:15 https://ppa.launchpadcontent.net/ubuntugis/ppa/ubuntu jammy InRelease\n",
            "Get:16 https://ppa.launchpadcontent.net/c2d4u.team/c2d4u4.0+/ubuntu jammy/main Sources [2,247 kB]\n",
            "Get:17 https://ppa.launchpadcontent.net/c2d4u.team/c2d4u4.0+/ubuntu jammy/main amd64 Packages [1,153 kB]\n",
            "Fetched 8,976 kB in 2s (4,590 kB/s)\n",
            "Reading package lists... Done\n",
            "Building dependency tree... Done\n",
            "Reading state information... Done\n",
            "36 packages can be upgraded. Run 'apt list --upgradable' to see them.\n"
          ]
        }
      ]
    },
    {
      "cell_type": "markdown",
      "source": [
        "### B. Inicializando a sessão do Spark e criando um DataFrame\n",
        "\n",
        "\n",
        "> Uma SparkSession é um ponto de entrada para se utilizar as funções do SparkSQL, DataFrame e Dataset. Ela também contém as funções de um SparkContext, um ponto de entrada mais antigo que realiza operações mais \"brutas\" (de baixo nível)."
      ],
      "metadata": {
        "id": "M4XMxuuT0v3a"
      }
    },
    {
      "cell_type": "code",
      "source": [
        "# Importando os pacotes necessários para o Spark\n",
        "from pyspark.sql import SparkSession\n",
        "from pyspark import SparkFiles\n",
        "\n",
        "# Importando outros pacotes necessários para o restante do código\n",
        "import pandas as pd\n",
        "import numpy as np\n",
        "import urllib.request\n",
        "\n",
        "# Inicializando a sessão do Spark\n",
        "spark = SparkSession.builder.getOrCreate()"
      ],
      "metadata": {
        "id": "_2i63Lf_6Y2s"
      },
      "execution_count": 3,
      "outputs": []
    },
    {
      "cell_type": "markdown",
      "source": [
        "\n",
        "\n",
        "> Será criado um DataFrame com dados abertos de uma instituição bancária disponíveis no [Kaggle](https://www.kaggle.com/datasets/prakharrathi25/banking-dataset-marketing-targets?resource=download). Para isso, o arquivo CSV, enviado para o Google Drive, será salvo no diretório do Google Colab e, em seguida, lido pela sessão do Spark.\n",
        "\n"
      ],
      "metadata": {
        "id": "uJ80mxuPFc2h"
      }
    },
    {
      "cell_type": "code",
      "source": [
        "# Definindo a URL que contém o arquivo do Drive e baixando-o para o diretório do Colab\n",
        "url='https://drive.google.com/file/d/1NvZEDnpcGXmhLQ9xIC3swTrSLKLtFkMD/view?usp=share_link'\n",
        "url='https://drive.google.com/uc?id=' + url.split('/')[-2]\n",
        "urllib.request.urlretrieve(url, \"train.csv\")\n",
        "\n",
        "# Criando o Spark DataFrame a partir do CSV baixado\n",
        "df = spark.read.option(\"delimiter\", \";\").csv('train.csv', header=True)"
      ],
      "metadata": {
        "id": "288aiXk25prD"
      },
      "execution_count": 4,
      "outputs": []
    },
    {
      "cell_type": "code",
      "source": [
        "# Mostrando as primeiras linhas do DataFrame\n",
        "df.show(5)\n",
        "\n",
        "# Obtendo o número de partições\n",
        "print('Número de partições: %d' %(df.rdd.getNumPartitions()))"
      ],
      "metadata": {
        "colab": {
          "base_uri": "https://localhost:8080/"
        },
        "id": "vl0RacfU8EX0",
        "outputId": "88b673d0-ba23-482c-b7bf-c40790795647"
      },
      "execution_count": 5,
      "outputs": [
        {
          "output_type": "stream",
          "name": "stdout",
          "text": [
            "+---+------------+-------+---------+-------+-------+-------+----+-------+---+-----+--------+--------+-----+--------+--------+---+\n",
            "|age|         job|marital|education|default|balance|housing|loan|contact|day|month|duration|campaign|pdays|previous|poutcome|  y|\n",
            "+---+------------+-------+---------+-------+-------+-------+----+-------+---+-----+--------+--------+-----+--------+--------+---+\n",
            "| 58|  management|married| tertiary|     no|   2143|    yes|  no|unknown|  5|  may|     261|       1|   -1|       0| unknown| no|\n",
            "| 44|  technician| single|secondary|     no|     29|    yes|  no|unknown|  5|  may|     151|       1|   -1|       0| unknown| no|\n",
            "| 33|entrepreneur|married|secondary|     no|      2|    yes| yes|unknown|  5|  may|      76|       1|   -1|       0| unknown| no|\n",
            "| 47| blue-collar|married|  unknown|     no|   1506|    yes|  no|unknown|  5|  may|      92|       1|   -1|       0| unknown| no|\n",
            "| 33|     unknown| single|  unknown|     no|      1|     no|  no|unknown|  5|  may|     198|       1|   -1|       0| unknown| no|\n",
            "+---+------------+-------+---------+-------+-------+-------+----+-------+---+-----+--------+--------+-----+--------+--------+---+\n",
            "only showing top 5 rows\n",
            "\n",
            "Número de partições: 2\n"
          ]
        }
      ]
    },
    {
      "cell_type": "markdown",
      "source": [
        "### C. Manipulando e analisando os dados do DataFrame"
      ],
      "metadata": {
        "id": "kf76UVUkHF4t"
      }
    },
    {
      "cell_type": "code",
      "source": [
        "# 01. Criando uma view da tabela na sessão do Spark\n",
        "# Necessário para usar SQL na tabela, se ela ainda não estiver disponível na sessão\n",
        "df.createOrReplaceTempView(\"bank_data\")\n",
        "\n",
        "# 02. Mostrando todas as tabelas disponíveis na sessão do Spark\n",
        "print(spark.catalog.listTables())"
      ],
      "metadata": {
        "colab": {
          "base_uri": "https://localhost:8080/"
        },
        "id": "vntWB5mQ2KTG",
        "outputId": "f31f4976-30e6-4330-f271-c9f52c29e385"
      },
      "execution_count": 6,
      "outputs": [
        {
          "output_type": "stream",
          "name": "stdout",
          "text": [
            "[Table(name='bank_data', database=None, description=None, tableType='TEMPORARY', isTemporary=True)]\n"
          ]
        }
      ]
    },
    {
      "cell_type": "code",
      "source": [
        "# 03. Criando uma query em SQL para obter a média dos saldos por nível educacional\n",
        "query = \"\"\"\n",
        "  select\n",
        "    education,\n",
        "    avg(balance) as avg_balance\n",
        "  from bank_data\n",
        "  group by 1\n",
        "\"\"\"\n",
        "results = spark.sql(query)\n",
        "results.show()"
      ],
      "metadata": {
        "colab": {
          "base_uri": "https://localhost:8080/"
        },
        "id": "O-ThKqFb0k1x",
        "outputId": "8f3c1f09-cef3-4df1-c124-1f271a854e19"
      },
      "execution_count": 7,
      "outputs": [
        {
          "output_type": "stream",
          "name": "stdout",
          "text": [
            "+---------+------------------+\n",
            "|education|       avg_balance|\n",
            "+---------+------------------+\n",
            "|  unknown|1526.7544426494346|\n",
            "| tertiary|1758.4164348545223|\n",
            "|secondary| 1154.880786139126|\n",
            "|  primary|1250.9499343161583|\n",
            "+---------+------------------+\n",
            "\n"
          ]
        }
      ]
    },
    {
      "cell_type": "code",
      "source": [
        "# 04. Convertendo o Spark DataFrame em um Pandas DataFrame\n",
        "pd_df = df.toPandas()\n",
        "\n",
        "# Printando o DataFrame criado\n",
        "print(pd_df)"
      ],
      "metadata": {
        "colab": {
          "base_uri": "https://localhost:8080/"
        },
        "id": "v4S2jgG03kAj",
        "outputId": "c8abe1be-c073-49b5-c545-7e3acd2191fb"
      },
      "execution_count": 8,
      "outputs": [
        {
          "output_type": "stream",
          "name": "stdout",
          "text": [
            "      age           job   marital  education default balance housing loan  \\\n",
            "0      58    management   married   tertiary      no    2143     yes   no   \n",
            "1      44    technician    single  secondary      no      29     yes   no   \n",
            "2      33  entrepreneur   married  secondary      no       2     yes  yes   \n",
            "3      47   blue-collar   married    unknown      no    1506     yes   no   \n",
            "4      33       unknown    single    unknown      no       1      no   no   \n",
            "...    ..           ...       ...        ...     ...     ...     ...  ...   \n",
            "45206  51    technician   married   tertiary      no     825      no   no   \n",
            "45207  71       retired  divorced    primary      no    1729      no   no   \n",
            "45208  72       retired   married  secondary      no    5715      no   no   \n",
            "45209  57   blue-collar   married  secondary      no     668      no   no   \n",
            "45210  37  entrepreneur   married  secondary      no    2971      no   no   \n",
            "\n",
            "         contact day month duration campaign pdays previous poutcome    y  \n",
            "0        unknown   5   may      261        1    -1        0  unknown   no  \n",
            "1        unknown   5   may      151        1    -1        0  unknown   no  \n",
            "2        unknown   5   may       76        1    -1        0  unknown   no  \n",
            "3        unknown   5   may       92        1    -1        0  unknown   no  \n",
            "4        unknown   5   may      198        1    -1        0  unknown   no  \n",
            "...          ...  ..   ...      ...      ...   ...      ...      ...  ...  \n",
            "45206   cellular  17   nov      977        3    -1        0  unknown  yes  \n",
            "45207   cellular  17   nov      456        2    -1        0  unknown  yes  \n",
            "45208   cellular  17   nov     1127        5   184        3  success  yes  \n",
            "45209  telephone  17   nov      508        4    -1        0  unknown   no  \n",
            "45210   cellular  17   nov      361        2   188       11    other   no  \n",
            "\n",
            "[45211 rows x 17 columns]\n"
          ]
        }
      ]
    },
    {
      "cell_type": "code",
      "source": [
        "# 05. Alterando os tipos de dados das colunas\n",
        "df = df.withColumn('age', df.age.cast('int'))\n",
        "df = df.withColumn('balance', df.age.cast('float'))\n",
        "df = df.withColumn('day', df.age.cast('int'))\n",
        "df = df.withColumn('duration', df.age.cast('int'))\n",
        "df = df.withColumn('campaign', df.age.cast('int'))\n",
        "df = df.withColumn('pdays', df.age.cast('int'))\n",
        "df = df.withColumn('previous', df.age.cast('int'))\n",
        "\n",
        "df.printSchema()"
      ],
      "metadata": {
        "colab": {
          "base_uri": "https://localhost:8080/"
        },
        "id": "hdltImKv_fzq",
        "outputId": "72517f3d-3d74-44a7-c794-65809b1f4407"
      },
      "execution_count": 9,
      "outputs": [
        {
          "output_type": "stream",
          "name": "stdout",
          "text": [
            "root\n",
            " |-- age: integer (nullable = true)\n",
            " |-- job: string (nullable = true)\n",
            " |-- marital: string (nullable = true)\n",
            " |-- education: string (nullable = true)\n",
            " |-- default: string (nullable = true)\n",
            " |-- balance: float (nullable = true)\n",
            " |-- housing: string (nullable = true)\n",
            " |-- loan: string (nullable = true)\n",
            " |-- contact: string (nullable = true)\n",
            " |-- day: integer (nullable = true)\n",
            " |-- month: string (nullable = true)\n",
            " |-- duration: integer (nullable = true)\n",
            " |-- campaign: integer (nullable = true)\n",
            " |-- pdays: integer (nullable = true)\n",
            " |-- previous: integer (nullable = true)\n",
            " |-- poutcome: string (nullable = true)\n",
            " |-- y: string (nullable = true)\n",
            "\n"
          ]
        }
      ]
    },
    {
      "cell_type": "code",
      "source": [
        "# 06. Adicionando e removendo uma coluna no Spark DataFrame\n",
        "df2 = df\n",
        "df2 = df2.withColumn('is_married', df2.marital=='married')\n",
        "df2 = df2.withColumn('birth_year', 2023-df2.age)\n",
        "\n",
        "# Adicionando uma coluna condicional\n",
        "from pyspark.sql.functions import when, monotonically_increasing_id, udf\n",
        "df2 = df2.withColumn('educacao',\n",
        "                    when(df.education == 'primary', 'primeiro grau')\n",
        "                    .when(df.education == 'secondary', 'segundo grau')\n",
        "                    .when(df.education == 'tertiary', 'terceiro grau')\n",
        "                    .otherwise('desconhecido'))\n",
        "\n",
        "# Alternativa em SQL:\n",
        "df2 = spark.sql(\"\"\"\n",
        "                select\n",
        "                  *,\n",
        "                  marital == 'married' as is_married,\n",
        "                  2023 - age as birth_year,\n",
        "                  case\n",
        "                    when education == 'primary' then 'primeiro grau'\n",
        "                    when education == 'secondary' then 'segundo grau'\n",
        "                    when education == 'tertiary' then 'terceiro grau'\n",
        "                    else 'desconhecido'\n",
        "                  end as educacao\n",
        "                from bank_data\n",
        "\"\"\")\n",
        "\n",
        "# Adicionando uma coluna com o número da linha\n",
        "df2 = df2.withColumn('numero_linha', monotonically_increasing_id())\n",
        "\n",
        "# Removendo a coluna birth_year\n",
        "df2.drop(df2.birth_year)\n",
        "df2.show()"
      ],
      "metadata": {
        "colab": {
          "base_uri": "https://localhost:8080/"
        },
        "id": "hdyN1G7b6jKb",
        "outputId": "e64700ca-5087-4d18-ca69-dfd6fe5210d3"
      },
      "execution_count": 10,
      "outputs": [
        {
          "output_type": "stream",
          "name": "stdout",
          "text": [
            "+---+------------+--------+---------+-------+-------+-------+----+-------+---+-----+--------+--------+-----+--------+--------+---+----------+----------+-------------+------------+\n",
            "|age|         job| marital|education|default|balance|housing|loan|contact|day|month|duration|campaign|pdays|previous|poutcome|  y|is_married|birth_year|     educacao|numero_linha|\n",
            "+---+------------+--------+---------+-------+-------+-------+----+-------+---+-----+--------+--------+-----+--------+--------+---+----------+----------+-------------+------------+\n",
            "| 58|  management| married| tertiary|     no|   2143|    yes|  no|unknown|  5|  may|     261|       1|   -1|       0| unknown| no|      true|    1965.0|terceiro grau|           0|\n",
            "| 44|  technician|  single|secondary|     no|     29|    yes|  no|unknown|  5|  may|     151|       1|   -1|       0| unknown| no|     false|    1979.0| segundo grau|           1|\n",
            "| 33|entrepreneur| married|secondary|     no|      2|    yes| yes|unknown|  5|  may|      76|       1|   -1|       0| unknown| no|      true|    1990.0| segundo grau|           2|\n",
            "| 47| blue-collar| married|  unknown|     no|   1506|    yes|  no|unknown|  5|  may|      92|       1|   -1|       0| unknown| no|      true|    1976.0| desconhecido|           3|\n",
            "| 33|     unknown|  single|  unknown|     no|      1|     no|  no|unknown|  5|  may|     198|       1|   -1|       0| unknown| no|     false|    1990.0| desconhecido|           4|\n",
            "| 35|  management| married| tertiary|     no|    231|    yes|  no|unknown|  5|  may|     139|       1|   -1|       0| unknown| no|      true|    1988.0|terceiro grau|           5|\n",
            "| 28|  management|  single| tertiary|     no|    447|    yes| yes|unknown|  5|  may|     217|       1|   -1|       0| unknown| no|     false|    1995.0|terceiro grau|           6|\n",
            "| 42|entrepreneur|divorced| tertiary|    yes|      2|    yes|  no|unknown|  5|  may|     380|       1|   -1|       0| unknown| no|     false|    1981.0|terceiro grau|           7|\n",
            "| 58|     retired| married|  primary|     no|    121|    yes|  no|unknown|  5|  may|      50|       1|   -1|       0| unknown| no|      true|    1965.0|primeiro grau|           8|\n",
            "| 43|  technician|  single|secondary|     no|    593|    yes|  no|unknown|  5|  may|      55|       1|   -1|       0| unknown| no|     false|    1980.0| segundo grau|           9|\n",
            "| 41|      admin.|divorced|secondary|     no|    270|    yes|  no|unknown|  5|  may|     222|       1|   -1|       0| unknown| no|     false|    1982.0| segundo grau|          10|\n",
            "| 29|      admin.|  single|secondary|     no|    390|    yes|  no|unknown|  5|  may|     137|       1|   -1|       0| unknown| no|     false|    1994.0| segundo grau|          11|\n",
            "| 53|  technician| married|secondary|     no|      6|    yes|  no|unknown|  5|  may|     517|       1|   -1|       0| unknown| no|      true|    1970.0| segundo grau|          12|\n",
            "| 58|  technician| married|  unknown|     no|     71|    yes|  no|unknown|  5|  may|      71|       1|   -1|       0| unknown| no|      true|    1965.0| desconhecido|          13|\n",
            "| 57|    services| married|secondary|     no|    162|    yes|  no|unknown|  5|  may|     174|       1|   -1|       0| unknown| no|      true|    1966.0| segundo grau|          14|\n",
            "| 51|     retired| married|  primary|     no|    229|    yes|  no|unknown|  5|  may|     353|       1|   -1|       0| unknown| no|      true|    1972.0|primeiro grau|          15|\n",
            "| 45|      admin.|  single|  unknown|     no|     13|    yes|  no|unknown|  5|  may|      98|       1|   -1|       0| unknown| no|     false|    1978.0| desconhecido|          16|\n",
            "| 57| blue-collar| married|  primary|     no|     52|    yes|  no|unknown|  5|  may|      38|       1|   -1|       0| unknown| no|      true|    1966.0|primeiro grau|          17|\n",
            "| 60|     retired| married|  primary|     no|     60|    yes|  no|unknown|  5|  may|     219|       1|   -1|       0| unknown| no|      true|    1963.0|primeiro grau|          18|\n",
            "| 33|    services| married|secondary|     no|      0|    yes|  no|unknown|  5|  may|      54|       1|   -1|       0| unknown| no|      true|    1990.0| segundo grau|          19|\n",
            "+---+------------+--------+---------+-------+-------+-------+----+-------+---+-----+--------+--------+-----+--------+--------+---+----------+----------+-------------+------------+\n",
            "only showing top 20 rows\n",
            "\n"
          ]
        }
      ]
    },
    {
      "cell_type": "code",
      "source": [
        "# 06. Renomeando uma coluna no Spark DataFrame\n",
        "df2 = df2.withColumnRenamed('job', 'career')"
      ],
      "metadata": {
        "id": "U3tpugv7BXk_"
      },
      "execution_count": 11,
      "outputs": []
    },
    {
      "cell_type": "code",
      "source": [
        "# 07. Filtrando um dataset\n",
        "df3 = df.filter(\"default=='yes'\")\n",
        "\n",
        "# ou\n",
        "df3 = df.filter(df.default == 'yes')\n",
        "\n",
        "# ou\n",
        "df3 = spark.sql(\"select * from bank_data where default=='yes'\")\n",
        "\n",
        "df3.show()"
      ],
      "metadata": {
        "colab": {
          "base_uri": "https://localhost:8080/"
        },
        "id": "uZy0fFk575Vn",
        "outputId": "8a0f79b1-5586-4d55-f86e-c0c4fe412d00"
      },
      "execution_count": 12,
      "outputs": [
        {
          "output_type": "stream",
          "name": "stdout",
          "text": [
            "+---+------------+--------+---------+-------+-------+-------+----+-------+---+-----+--------+--------+-----+--------+--------+---+\n",
            "|age|         job| marital|education|default|balance|housing|loan|contact|day|month|duration|campaign|pdays|previous|poutcome|  y|\n",
            "+---+------------+--------+---------+-------+-------+-------+----+-------+---+-----+--------+--------+-----+--------+--------+---+\n",
            "| 42|entrepreneur|divorced| tertiary|    yes|      2|    yes|  no|unknown|  5|  may|     380|       1|   -1|       0| unknown| no|\n",
            "| 55|    services|divorced|secondary|    yes|      1|    yes|  no|unknown|  5|  may|     208|       1|   -1|       0| unknown| no|\n",
            "| 51|      admin.|  single|secondary|    yes|     -2|     no|  no|unknown|  5|  may|     402|       3|   -1|       0| unknown| no|\n",
            "| 33|  technician| married|secondary|    yes|     72|    yes|  no|unknown|  6|  may|     623|       1|   -1|       0| unknown| no|\n",
            "| 33| blue-collar|  single|secondary|    yes|    -60|     no|  no|unknown|  6|  may|     243|       1|   -1|       0| unknown| no|\n",
            "| 60|     retired| married|secondary|    yes|     15|     no|  no|unknown|  6|  may|      80|       1|   -1|       0| unknown| no|\n",
            "| 35|entrepreneur| married|secondary|    yes|    204|    yes|  no|unknown|  6|  may|     424|       2|   -1|       0| unknown| no|\n",
            "| 41| blue-collar|  single|  primary|    yes|   -137|    yes| yes|unknown|  6|  may|     189|       1|   -1|       0| unknown| no|\n",
            "| 54|    services| married|secondary|    yes|      0|    yes|  no|unknown|  6|  may|     138|       3|   -1|       0| unknown| no|\n",
            "| 52| blue-collar|divorced|  primary|    yes|   -183|    yes|  no|unknown|  6|  may|     145|       1|   -1|       0| unknown| no|\n",
            "| 40| blue-collar| married|  primary|    yes|      0|    yes|  no|unknown|  6|  may|      64|       2|   -1|       0| unknown| no|\n",
            "| 46|  technician| married|secondary|    yes|    289|     no|  no|unknown|  7|  may|      51|       3|   -1|       0| unknown| no|\n",
            "| 35| blue-collar| married|  primary|    yes|      0|    yes|  no|unknown|  7|  may|     292|       1|   -1|       0| unknown| no|\n",
            "| 35| blue-collar|  single|  unknown|    yes|   -532|    yes|  no|unknown|  7|  may|     149|       1|   -1|       0| unknown| no|\n",
            "| 54|  management| married| tertiary|    yes|   -248|    yes| yes|unknown|  7|  may|     112|       1|   -1|       0| unknown| no|\n",
            "| 37|  management|  single| tertiary|    yes|     45|    yes|  no|unknown|  7|  may|     204|       1|   -1|       0| unknown| no|\n",
            "| 40| blue-collar| married|secondary|    yes|    -94|    yes| yes|unknown|  7|  may|     227|       1|   -1|       0| unknown| no|\n",
            "| 39| blue-collar| married|secondary|    yes|   -345|    yes|  no|unknown|  7|  may|      69|       1|   -1|       0| unknown| no|\n",
            "| 47| blue-collar| married|secondary|    yes|     -5|    yes|  no|unknown|  7|  may|     444|       1|   -1|       0| unknown| no|\n",
            "| 50| blue-collar| married|  primary|    yes|    354|    yes|  no|unknown|  7|  may|     123|       2|   -1|       0| unknown| no|\n",
            "+---+------------+--------+---------+-------+-------+-------+----+-------+---+-----+--------+--------+-----+--------+--------+---+\n",
            "only showing top 20 rows\n",
            "\n"
          ]
        }
      ]
    },
    {
      "cell_type": "code",
      "source": [
        "# 08. Selecionando colunas do dataset\n",
        "df4 = df.select(\"age\", \"job\", \"y\")\n",
        "\n",
        "# ou\n",
        "df4 = df.select(df.age, df.job, df.y)\n",
        "\n",
        "# ou\n",
        "df4 = spark.sql(\"select age, job, y from bank_data\")\n",
        "\n",
        "df4.show()"
      ],
      "metadata": {
        "colab": {
          "base_uri": "https://localhost:8080/"
        },
        "id": "Tx9WNhdY84TY",
        "outputId": "9a956a6e-ca6c-4ef4-f1b4-85eb4dbe11ea"
      },
      "execution_count": 13,
      "outputs": [
        {
          "output_type": "stream",
          "name": "stdout",
          "text": [
            "+---+------------+---+\n",
            "|age|         job|  y|\n",
            "+---+------------+---+\n",
            "| 58|  management| no|\n",
            "| 44|  technician| no|\n",
            "| 33|entrepreneur| no|\n",
            "| 47| blue-collar| no|\n",
            "| 33|     unknown| no|\n",
            "| 35|  management| no|\n",
            "| 28|  management| no|\n",
            "| 42|entrepreneur| no|\n",
            "| 58|     retired| no|\n",
            "| 43|  technician| no|\n",
            "| 41|      admin.| no|\n",
            "| 29|      admin.| no|\n",
            "| 53|  technician| no|\n",
            "| 58|  technician| no|\n",
            "| 57|    services| no|\n",
            "| 51|     retired| no|\n",
            "| 45|      admin.| no|\n",
            "| 57| blue-collar| no|\n",
            "| 60|     retired| no|\n",
            "| 33|    services| no|\n",
            "+---+------------+---+\n",
            "only showing top 20 rows\n",
            "\n"
          ]
        }
      ]
    },
    {
      "cell_type": "code",
      "source": [
        "# 09. Detectando os tipos de dados do DataFrame\n",
        "print(df.printSchema())"
      ],
      "metadata": {
        "colab": {
          "base_uri": "https://localhost:8080/"
        },
        "id": "MLFaomw9_SeB",
        "outputId": "7f997d98-cd19-4d49-aadb-dd876c2643c1"
      },
      "execution_count": 14,
      "outputs": [
        {
          "output_type": "stream",
          "name": "stdout",
          "text": [
            "root\n",
            " |-- age: integer (nullable = true)\n",
            " |-- job: string (nullable = true)\n",
            " |-- marital: string (nullable = true)\n",
            " |-- education: string (nullable = true)\n",
            " |-- default: string (nullable = true)\n",
            " |-- balance: float (nullable = true)\n",
            " |-- housing: string (nullable = true)\n",
            " |-- loan: string (nullable = true)\n",
            " |-- contact: string (nullable = true)\n",
            " |-- day: integer (nullable = true)\n",
            " |-- month: string (nullable = true)\n",
            " |-- duration: integer (nullable = true)\n",
            " |-- campaign: integer (nullable = true)\n",
            " |-- pdays: integer (nullable = true)\n",
            " |-- previous: integer (nullable = true)\n",
            " |-- poutcome: string (nullable = true)\n",
            " |-- y: string (nullable = true)\n",
            "\n",
            "None\n"
          ]
        }
      ]
    },
    {
      "cell_type": "code",
      "source": [
        "# 11. Calculando valores agregados\n",
        "df11a = df.groupBy().sum(\"duration\")  # Média das idades\n",
        "df11b = df.groupBy().mean(\"duration\")  # Média das idades\n",
        "df11c = df.groupBy().max(\"duration\")   # Idade máxima\n",
        "\n",
        "# ou\n",
        "df11a = spark.sql(\"select sum(duration) from bank_data\")\n",
        "df11b = spark.sql(\"select avg(duration) from bank_data\")\n",
        "df11c = spark.sql(\"select max(duration) from bank_data\")\n",
        "\n",
        "df11a.show()\n",
        "df11b.show()\n",
        "df11c.show()"
      ],
      "metadata": {
        "colab": {
          "base_uri": "https://localhost:8080/"
        },
        "id": "8CY5wUTG-KPc",
        "outputId": "9197ecad-ed40-4d18-baef-191e4360d329"
      },
      "execution_count": 15,
      "outputs": [
        {
          "output_type": "stream",
          "name": "stdout",
          "text": [
            "+-----------------------------+\n",
            "|sum(CAST(duration AS DOUBLE))|\n",
            "+-----------------------------+\n",
            "|                  1.1671811E7|\n",
            "+-----------------------------+\n",
            "\n",
            "+-----------------------------+\n",
            "|avg(CAST(duration AS DOUBLE))|\n",
            "+-----------------------------+\n",
            "|            258.1630797814691|\n",
            "+-----------------------------+\n",
            "\n",
            "+-------------+\n",
            "|max(duration)|\n",
            "+-------------+\n",
            "|          999|\n",
            "+-------------+\n",
            "\n"
          ]
        }
      ]
    },
    {
      "cell_type": "code",
      "source": [
        "# 12. Agrupando os dados por coluna(s)\n",
        "df12a = df.groupBy(\"marital\").count()           # contar por grupo\n",
        "df12b = df.groupBy(\"marital\").mean(\"balance\")   # média por grupo\n",
        "\n",
        "# ou\n",
        "df12a = spark.sql(\"select marital, count(*) as n from bank_data group by 1\")\n",
        "df12b = spark.sql(\"select marital, avg(balance) as avg_marital from bank_data group by 1\")\n",
        "\n",
        "df12a.show()\n",
        "df12b.show()"
      ],
      "metadata": {
        "colab": {
          "base_uri": "https://localhost:8080/"
        },
        "id": "lSXKnNg299-C",
        "outputId": "bfd9aaaf-d2f1-4ccc-bbb1-9e67d684a004"
      },
      "execution_count": 16,
      "outputs": [
        {
          "output_type": "stream",
          "name": "stdout",
          "text": [
            "+--------+-----+\n",
            "| marital|    n|\n",
            "+--------+-----+\n",
            "|divorced| 5207|\n",
            "| married|27214|\n",
            "|  single|12790|\n",
            "+--------+-----+\n",
            "\n",
            "+--------+------------------+\n",
            "| marital|       avg_marital|\n",
            "+--------+------------------+\n",
            "|divorced|1178.8722873055501|\n",
            "| married|1425.9255897699713|\n",
            "|  single|1301.4976544175138|\n",
            "+--------+------------------+\n",
            "\n"
          ]
        }
      ]
    },
    {
      "cell_type": "code",
      "source": [
        "# 13. Fazendo joins\n",
        "# Fazendo um join do \"df\" a tabela com valores da média de saldo por estado civil\n",
        "df13 = df.join(df12b, on='marital', how='left')\n",
        "df13.show()\n",
        "\n",
        "# Para joins entre uma tabela muito grande e uma tabela pequena, pode-se\n",
        "# utilizar o broadcast() para aumentar a performance.\n",
        "# Ex. tabela_grande = df.join(broadcast(tabela_pequena, on='marital', how='left'))\n",
        "\n",
        "from pyspark.sql.functions import broadcast\n",
        "df13 = df.join(broadcast(df12b), on='marital', how='left')"
      ],
      "metadata": {
        "colab": {
          "base_uri": "https://localhost:8080/"
        },
        "id": "wfyyiuGz9wtz",
        "outputId": "451cf8c7-547f-4787-eb83-87ffa61b0a46"
      },
      "execution_count": 17,
      "outputs": [
        {
          "output_type": "stream",
          "name": "stdout",
          "text": [
            "+--------+---+------------+---------+-------+-------+-------+----+-------+---+-----+--------+--------+-----+--------+--------+---+------------------+\n",
            "| marital|age|         job|education|default|balance|housing|loan|contact|day|month|duration|campaign|pdays|previous|poutcome|  y|       avg_marital|\n",
            "+--------+---+------------+---------+-------+-------+-------+----+-------+---+-----+--------+--------+-----+--------+--------+---+------------------+\n",
            "| married| 58|  management| tertiary|     no|   58.0|    yes|  no|unknown| 58|  may|      58|      58|   58|      58| unknown| no|1425.9255897699713|\n",
            "|  single| 44|  technician|secondary|     no|   44.0|    yes|  no|unknown| 44|  may|      44|      44|   44|      44| unknown| no|1301.4976544175138|\n",
            "| married| 33|entrepreneur|secondary|     no|   33.0|    yes| yes|unknown| 33|  may|      33|      33|   33|      33| unknown| no|1425.9255897699713|\n",
            "| married| 47| blue-collar|  unknown|     no|   47.0|    yes|  no|unknown| 47|  may|      47|      47|   47|      47| unknown| no|1425.9255897699713|\n",
            "|  single| 33|     unknown|  unknown|     no|   33.0|     no|  no|unknown| 33|  may|      33|      33|   33|      33| unknown| no|1301.4976544175138|\n",
            "| married| 35|  management| tertiary|     no|   35.0|    yes|  no|unknown| 35|  may|      35|      35|   35|      35| unknown| no|1425.9255897699713|\n",
            "|  single| 28|  management| tertiary|     no|   28.0|    yes| yes|unknown| 28|  may|      28|      28|   28|      28| unknown| no|1301.4976544175138|\n",
            "|divorced| 42|entrepreneur| tertiary|    yes|   42.0|    yes|  no|unknown| 42|  may|      42|      42|   42|      42| unknown| no|1178.8722873055501|\n",
            "| married| 58|     retired|  primary|     no|   58.0|    yes|  no|unknown| 58|  may|      58|      58|   58|      58| unknown| no|1425.9255897699713|\n",
            "|  single| 43|  technician|secondary|     no|   43.0|    yes|  no|unknown| 43|  may|      43|      43|   43|      43| unknown| no|1301.4976544175138|\n",
            "|divorced| 41|      admin.|secondary|     no|   41.0|    yes|  no|unknown| 41|  may|      41|      41|   41|      41| unknown| no|1178.8722873055501|\n",
            "|  single| 29|      admin.|secondary|     no|   29.0|    yes|  no|unknown| 29|  may|      29|      29|   29|      29| unknown| no|1301.4976544175138|\n",
            "| married| 53|  technician|secondary|     no|   53.0|    yes|  no|unknown| 53|  may|      53|      53|   53|      53| unknown| no|1425.9255897699713|\n",
            "| married| 58|  technician|  unknown|     no|   58.0|    yes|  no|unknown| 58|  may|      58|      58|   58|      58| unknown| no|1425.9255897699713|\n",
            "| married| 57|    services|secondary|     no|   57.0|    yes|  no|unknown| 57|  may|      57|      57|   57|      57| unknown| no|1425.9255897699713|\n",
            "| married| 51|     retired|  primary|     no|   51.0|    yes|  no|unknown| 51|  may|      51|      51|   51|      51| unknown| no|1425.9255897699713|\n",
            "|  single| 45|      admin.|  unknown|     no|   45.0|    yes|  no|unknown| 45|  may|      45|      45|   45|      45| unknown| no|1301.4976544175138|\n",
            "| married| 57| blue-collar|  primary|     no|   57.0|    yes|  no|unknown| 57|  may|      57|      57|   57|      57| unknown| no|1425.9255897699713|\n",
            "| married| 60|     retired|  primary|     no|   60.0|    yes|  no|unknown| 60|  may|      60|      60|   60|      60| unknown| no|1425.9255897699713|\n",
            "| married| 33|    services|secondary|     no|   33.0|    yes|  no|unknown| 33|  may|      33|      33|   33|      33| unknown| no|1425.9255897699713|\n",
            "+--------+---+------------+---------+-------+-------+-------+----+-------+---+-----+--------+--------+-----+--------+--------+---+------------------+\n",
            "only showing top 20 rows\n",
            "\n"
          ]
        }
      ]
    },
    {
      "cell_type": "code",
      "source": [
        "# 14. Ordenando por idade\n",
        "df14 = df.orderBy(df.age.asc())\n",
        "\n",
        "# ou\n",
        "df14 = spark.sql(\"select * from bank_data order by age asc\")\n",
        "\n",
        "df14.show()"
      ],
      "metadata": {
        "colab": {
          "base_uri": "https://localhost:8080/"
        },
        "id": "21KiY8PH1lcL",
        "outputId": "29d8f8bd-b00b-4be1-b897-6bfb63cd0d91"
      },
      "execution_count": 18,
      "outputs": [
        {
          "output_type": "stream",
          "name": "stdout",
          "text": [
            "+---+-------+-------+---------+-------+-------+-------+----+---------+---+-----+--------+--------+-----+--------+--------+---+\n",
            "|age|    job|marital|education|default|balance|housing|loan|  contact|day|month|duration|campaign|pdays|previous|poutcome|  y|\n",
            "+---+-------+-------+---------+-------+-------+-------+----+---------+---+-----+--------+--------+-----+--------+--------+---+\n",
            "| 18|student| single|secondary|     no|    156|     no|  no| cellular|  4|  nov|     298|       2|   82|       4|   other| no|\n",
            "| 18|student| single|secondary|     no|      5|     no|  no| cellular| 24|  aug|     143|       2|   -1|       0| unknown| no|\n",
            "| 18|student| single|  unknown|     no|    108|     no|  no| cellular|  8|  sep|     169|       1|   -1|       0| unknown|yes|\n",
            "| 18|student| single|  primary|     no|    608|     no|  no| cellular| 13|  nov|     210|       1|   93|       1| success|yes|\n",
            "| 18|student| single|  unknown|     no|    108|     no|  no| cellular|  9|  feb|      92|       1|  183|       1| success|yes|\n",
            "| 18|student| single|  unknown|     no|    348|     no|  no| cellular|  5|  may|     443|       4|   -1|       0| unknown|yes|\n",
            "| 18|student| single|  unknown|     no|    438|     no|  no| cellular|  1|  sep|     425|       1|   -1|       0| unknown| no|\n",
            "| 18|student| single|  primary|     no|   1944|     no|  no|telephone| 10|  aug|     122|       3|   -1|       0| unknown| no|\n",
            "| 18|student| single|  unknown|     no|      3|     no|  no| cellular| 25|  aug|     130|       2|   -1|       0| unknown|yes|\n",
            "| 18|student| single|  primary|     no|    608|     no|  no| cellular| 12|  aug|     267|       1|   -1|       0| unknown|yes|\n",
            "| 18|student| single|  unknown|     no|     35|     no|  no|telephone| 21|  aug|     104|       2|   -1|       0| unknown| no|\n",
            "| 18|student| single|  unknown|     no|    108|     no|  no| cellular| 10|  aug|     167|       1|   -1|       0| unknown|yes|\n",
            "| 19|student| single|  unknown|     no|     60|     no|  no| cellular| 14|  aug|     253|       1|   -1|       0| unknown| no|\n",
            "| 19|student| single|secondary|     no|    302|     no|  no| cellular| 16|  jul|     205|       1|   -1|       0| unknown|yes|\n",
            "| 19|student| single|  unknown|     no|     27|     no|  no|telephone|  5|  mar|      86|      12|   -1|       0| unknown| no|\n",
            "| 19|student| single|  unknown|     no|    108|     no|  no| cellular| 10|  aug|     168|       1|  182|       2| success|yes|\n",
            "| 19|student| single|  primary|     no|    608|     no|  no| cellular| 12|  may|     236|       1|  180|       2| success|yes|\n",
            "| 19|student| single|  primary|     no|    103|     no|  no| cellular| 10|  jul|     104|       2|   -1|       0| unknown|yes|\n",
            "| 19|student| single|  primary|     no|    245|     no|  no|telephone| 10|  nov|      98|       2|  110|       2|   other| no|\n",
            "| 19|student| single|secondary|     no|    424|     no|  no| cellular| 30|  jun|     121|       3|  195|       2|   other| no|\n",
            "+---+-------+-------+---------+-------+-------+-------+----+---------+---+-----+--------+--------+-----+--------+--------+---+\n",
            "only showing top 20 rows\n",
            "\n"
          ]
        }
      ]
    },
    {
      "cell_type": "code",
      "source": [
        "# 15. Removendo duplicatas\n",
        "df15 = df.select(df.marital, df.education)\n",
        "df15 = df15.dropDuplicates()\n",
        "\n",
        "# ou\n",
        "df15 = spark.sql(\"select distinct marital, education from bank_data\")\n",
        "\n",
        "df15.show()"
      ],
      "metadata": {
        "colab": {
          "base_uri": "https://localhost:8080/"
        },
        "id": "tYspaFXF2LuK",
        "outputId": "fab44f4c-4ad8-44f8-a16e-d7c06a055f48"
      },
      "execution_count": 19,
      "outputs": [
        {
          "output_type": "stream",
          "name": "stdout",
          "text": [
            "+--------+---------+\n",
            "| marital|education|\n",
            "+--------+---------+\n",
            "|divorced|  unknown|\n",
            "|divorced| tertiary|\n",
            "| married|  primary|\n",
            "| married| tertiary|\n",
            "|  single| tertiary|\n",
            "|  single|  primary|\n",
            "|  single|secondary|\n",
            "|divorced|  primary|\n",
            "|divorced|secondary|\n",
            "|  single|  unknown|\n",
            "| married|  unknown|\n",
            "| married|secondary|\n",
            "+--------+---------+\n",
            "\n"
          ]
        }
      ]
    },
    {
      "cell_type": "code",
      "source": [
        "# 16. Mostrar estatísticas sumarizadas das colunas\n",
        "df16 = df.describe()\n",
        "df16.show()"
      ],
      "metadata": {
        "colab": {
          "base_uri": "https://localhost:8080/"
        },
        "id": "7UF2WE5G4qNN",
        "outputId": "caabb1ff-b614-443b-838c-e173128bf12c"
      },
      "execution_count": 20,
      "outputs": [
        {
          "output_type": "stream",
          "name": "stdout",
          "text": [
            "+-------+------------------+-------+--------+---------+-------+------------------+-------+-----+--------+------------------+-----+------------------+------------------+------------------+------------------+--------+-----+\n",
            "|summary|               age|    job| marital|education|default|           balance|housing| loan| contact|               day|month|          duration|          campaign|             pdays|          previous|poutcome|    y|\n",
            "+-------+------------------+-------+--------+---------+-------+------------------+-------+-----+--------+------------------+-----+------------------+------------------+------------------+------------------+--------+-----+\n",
            "|  count|             45211|  45211|   45211|    45211|  45211|             45211|  45211|45211|   45211|             45211|45211|             45211|             45211|             45211|             45211|   45211|45211|\n",
            "|   mean| 40.93621021432837|   null|    null|     null|   null| 40.93621021432837|   null| null|    null| 40.93621021432837| null| 40.93621021432837| 40.93621021432837| 40.93621021432837| 40.93621021432837|    null| null|\n",
            "| stddev|10.618762040975408|   null|    null|     null|   null|10.618762040975408|   null| null|    null|10.618762040975408| null|10.618762040975408|10.618762040975408|10.618762040975408|10.618762040975408|    null| null|\n",
            "|    min|                18| admin.|divorced|  primary|     no|              18.0|     no|   no|cellular|                18|  apr|                18|                18|                18|                18| failure|   no|\n",
            "|    max|                95|unknown|  single|  unknown|    yes|              95.0|    yes|  yes| unknown|                95|  sep|                95|                95|                95|                95| unknown|  yes|\n",
            "+-------+------------------+-------+--------+---------+-------+------------------+-------+-----+--------+------------------+-----+------------------+------------------+------------------+------------------+--------+-----+\n",
            "\n"
          ]
        }
      ]
    },
    {
      "cell_type": "markdown",
      "source": [
        "### D. Visualização de dados\n",
        "Para criar visualizações simples, pode-se utilizar as funções de plotagem do Pandas, através da API do Spark. Maiores customizações podem ser feitas por meio de pacotes como matplotlib, seaborn e plotly"
      ],
      "metadata": {
        "id": "ru_M9dvy5WoR"
      }
    },
    {
      "cell_type": "code",
      "source": [
        "# Criando um PandasDataFrame com os valores de idade\n",
        "idades = df.select(\"Age\").toPandas()\n",
        "\n",
        "# Plotando um histograma\n",
        "idades['Age'].plot.hist(title = 'Distribuição de idade')"
      ],
      "metadata": {
        "colab": {
          "base_uri": "https://localhost:8080/",
          "height": 469
        },
        "id": "TuvCBvp1_Wxy",
        "outputId": "5801fbe3-182d-42dd-fd28-a347b511b9ca"
      },
      "execution_count": 21,
      "outputs": [
        {
          "output_type": "execute_result",
          "data": {
            "text/plain": [
              "<Axes: title={'center': 'Distribuição de idade'}, ylabel='Frequency'>"
            ]
          },
          "metadata": {},
          "execution_count": 21
        },
        {
          "output_type": "display_data",
          "data": {
            "text/plain": [
              "<Figure size 640x480 with 1 Axes>"
            ],
            "image/png": "[encoded data removed]"
          },
          "metadata": {}
        }
      ]
    },
    {
      "cell_type": "code",
      "source": [
        "# Criando um DataFrame com a contagem para cada estado civil\n",
        "df17 = df.groupBy(df.marital).count()\n",
        "pandas_df17 = df17.toPandas().set_index('marital')\n",
        "print(pandas_df17)\n",
        "\n",
        "# Plotando em um gráfico de pizza\n",
        "ax = pandas_df17.plot.pie(y='count', figsize=(15,3),\n",
        "                          title= 'Distribuição de estados civis')\n",
        "ax.legend(bbox_to_anchor=(1.8, 1.0))  # Setando a posição da legenda"
      ],
      "metadata": {
        "colab": {
          "base_uri": "https://localhost:8080/",
          "height": 392
        },
        "id": "xwFkfWI38kE6",
        "outputId": "8ea50cef-5503-426b-dcf5-fda6dd30909d"
      },
      "execution_count": 22,
      "outputs": [
        {
          "output_type": "stream",
          "name": "stdout",
          "text": [
            "          count\n",
            "marital        \n",
            "divorced   5207\n",
            "married   27214\n",
            "single    12790\n"
          ]
        },
        {
          "output_type": "execute_result",
          "data": {
            "text/plain": [
              "<matplotlib.legend.Legend at 0x7c7e6a89cfd0>"
            ]
          },
          "metadata": {},
          "execution_count": 22
        },
        {
          "output_type": "display_data",
          "data": {
            "text/plain": [
              "<Figure size 1500x300 with 1 Axes>"
            ],
            "image/png": "[encoded data removed]"
          },
          "metadata": {}
        }
      ]
    },
    {
      "cell_type": "code",
      "source": [
        "# Criando um gráfico de barras empilhadas para nível educacional e estado civil\n",
        "df18 = df.groupBy(df.poutcome, df.education).count()             # Agrupando\n",
        "df18 = df18.groupBy(df.education).pivot('poutcome').sum('count') # Pivotando\n",
        "pandas_df18 = df18.toPandas().set_index('education')             # Transformando em Pandas\n",
        "pandas_df18 = pandas_df18.drop(columns=['unknown'])              # Removendo unknowns\n",
        "ax = pandas_df18.plot(kind='bar',\n",
        "                      stacked=True,\n",
        "                      figsize=(10, 6),\n",
        "                      title='Contratação por nível educacional')# Plotando\n",
        "ax.legend(bbox_to_anchor=(1.0, 1.0), ncol=2)                    # Adicionando legenda"
      ],
      "metadata": {
        "colab": {
          "base_uri": "https://localhost:8080/",
          "height": 640
        },
        "id": "W7rPf8xdlNsU",
        "outputId": "62d74dc4-a298-42fb-b944-14aa5955fcbf"
      },
      "execution_count": 23,
      "outputs": [
        {
          "output_type": "execute_result",
          "data": {
            "text/plain": [
              "<matplotlib.legend.Legend at 0x7c7e6a221cc0>"
            ]
          },
          "metadata": {},
          "execution_count": 23
        },
        {
          "output_type": "display_data",
          "data": {
            "text/plain": [
              "<Figure size 1000x600 with 1 Axes>"
            ],
            "image/png": "[encoded data removed]"
          },
          "metadata": {}
        }
      ]
    },
    {
      "cell_type": "code",
      "source": [
        "# Criando um gráfico de barras empilhadas em 100% para nível educacional e estado civil\n",
        "df19 = df.groupBy(df.marital, df.education).count()             # Agrupando\n",
        "df19 = df19.groupBy(df.marital).pivot('education').sum('count') # Pivotando\n",
        "pandas_df19 = df19.toPandas().set_index('marital')              # Transformando em Pandas\n",
        "pandas_df19 = pandas_df19.div(pandas_df19.sum(axis=1), axis=0)  # Calculando %\n",
        "ax = pandas_df19.plot(kind='bar',\n",
        "                      stacked=True,\n",
        "                      figsize=(10, 6),\n",
        "                      title='Educação por estado civil')        # Plotando\n",
        "ax.legend(bbox_to_anchor=(1.0, 1.0), ncol=2)                    # Adicionando legenda"
      ],
      "metadata": {
        "colab": {
          "base_uri": "https://localhost:8080/",
          "height": 627
        },
        "id": "Yb83VCyjcVYG",
        "outputId": "426b8ae8-3773-495d-f4ac-a696e030e163"
      },
      "execution_count": 24,
      "outputs": [
        {
          "output_type": "execute_result",
          "data": {
            "text/plain": [
              "<matplotlib.legend.Legend at 0x7c7e69b268f0>"
            ]
          },
          "metadata": {},
          "execution_count": 24
        },
        {
          "output_type": "display_data",
          "data": {
            "text/plain": [
              "<Figure size 1000x600 with 1 Axes>"
            ],
            "image/png": "[encoded data removed]"
          },
          "metadata": {}
        }
      ]
    }
  ]
}